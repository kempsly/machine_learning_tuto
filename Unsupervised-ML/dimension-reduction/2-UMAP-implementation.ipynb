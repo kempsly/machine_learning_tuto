{
 "cells": [
  {
   "cell_type": "markdown",
   "metadata": {},
   "source": [
    "### This nobebook is about the implementation of umap from scratch "
   ]
  },
  {
   "cell_type": "markdown",
   "metadata": {},
   "source": [
    "**UMAP (Uniform Manifold Approximation and Projection)** is a dimensionality reduction technique. It is used to reduce the number of features in a dataset while preserving the underlying structure of the data. UMAP is particularly well-suited for visualizing high-dimensional datasets and is often used in machine learning workflows to explore or preprocess data.\n",
    "\n",
    "---\n",
    "\n",
    "### **Key Characteristics**\n",
    "1. **Manifold Learning**:\n",
    "   - UMAP assumes that the data lies on a low-dimensional manifold embedded in a higher-dimensional space.\n",
    "   - It approximates this manifold to reduce the dimensions of the dataset.\n",
    "\n",
    "2. **Nonlinear Reduction**:\n",
    "   - Unlike linear techniques like PCA, UMAP captures complex, nonlinear relationships between features.\n",
    "\n",
    "3. **Preservation of Local Structure**:\n",
    "   - UMAP is designed to retain the local relationships (neighborhood structure) between data points.\n",
    "\n",
    "4. **Highly Configurable**:\n",
    "   - Parameters like the number of neighbors (`n_neighbors`) and minimum distance (`min_dist`) allow you to adjust the balance between global and local data structure preservation.\n",
    "\n",
    "---\n",
    "\n",
    "### **Applications**\n",
    "1. **Data Visualization**:\n",
    "   - Reduce dimensions to 2D or 3D for exploratory data analysis.\n",
    "2. **Preprocessing for Machine Learning**:\n",
    "   - Reduce noise and redundancy in features.\n",
    "3. **Clustering**:\n",
    "   - Often combined with clustering algorithms like DBSCAN or KMeans for better results.\n",
    "4. **Handling High-Dimensional Data**:\n",
    "   - Text data, gene expression data, and image embeddings.\n",
    "\n",
    "---\n",
    "\n",
    "### **How UMAP Works**\n",
    "UMAP uses graph theory to construct a weighted graph of data points based on their similarity:\n",
    "1. **Graph Construction**:\n",
    "   - A k-nearest neighbor graph is built to capture the local structure of the data.\n",
    "   - Similarities between points are calculated using a probabilistic framework.\n",
    "2. **Graph Optimization**:\n",
    "   - The high-dimensional graph is transformed into a lower-dimensional representation while preserving its structure.\n",
    "\n",
    "---\n",
    "\n",
    "### **UMAP Parameters**\n",
    "- **`n_neighbors`**:\n",
    "  - Controls the size of the local neighborhood.\n",
    "  - Smaller values emphasize local structure, while larger values capture global structure.\n",
    "- **`min_dist`**:\n",
    "  - Determines the minimum distance between points in the embedding.\n",
    "  - Lower values result in tighter clusters.\n",
    "- **`n_components`**:\n",
    "  - The dimensionality of the reduced representation (e.g., 2D or 3D).\n",
    "- **`metric`**:\n",
    "  - The distance metric used to calculate similarity (default: \"euclidean\").\n",
    "  \n",
    "---\n",
    "\n",
    "### **Advantages**\n",
    "- Handles nonlinear relationships effectively.\n",
    "- Computationally efficient and scalable.\n",
    "- Flexible and customizable for various datasets.\n",
    "\n",
    "### **Disadvantages**\n",
    "- Sensitive to hyperparameters, requiring tuning for optimal results.\n",
    "- May struggle with preserving global structures in some datasets.\n",
    "\n",
    "---\n",
    "\n",
    "### **UMAP vs. Other Techniques**\n",
    "| **Aspect**            | **UMAP**                     | **PCA**                        | **t-SNE**                     |\n",
    "|------------------------|------------------------------|---------------------------------|--------------------------------|\n",
    "| **Type**              | Nonlinear                   | Linear                        | Nonlinear                     |\n",
    "| **Local Structure**    | Preserves well              | Poorly preserved              | Preserves well                |\n",
    "| **Global Structure**   | Depends on parameters       | Preserves well                | Poorly preserved              |\n",
    "| **Scalability**        | Efficient                   | Very efficient                | Slower than UMAP              |\n",
    "| **Dimensionality**     | 2D, 3D, or more             | Works in all dimensions       | Typically used for 2D or 3D   |\n",
    "| **Interpretability**   | Moderate                   | High                          | Low                           |\n",
    "\n",
    "---\n",
    "\n",
    "---\n",
    "\n",
    "### **Typical Use Cases**\n",
    "1. **Text Data**:\n",
    "   - Represent text as embeddings (e.g., word2vec, BERT) and reduce dimensions with UMAP.\n",
    "2. **Image Data**:\n",
    "   - Use convolutional features or embeddings, then apply UMAP for visualization.\n",
    "3. **Clustering**:\n",
    "   - Combine UMAP with clustering to enhance cluster separation.\n",
    "\n",
    "UMAP is a versatile and efficient tool, making it a favorite for tasks involving high-dimensional data."
   ]
  },
  {
   "cell_type": "code",
   "execution_count": 1,
   "metadata": {},
   "outputs": [
    {
     "ename": "ModuleNotFoundError",
     "evalue": "No module named 'pynndescent'",
     "output_type": "error",
     "traceback": [
      "\u001b[0;31m---------------------------------------------------------------------------\u001b[0m",
      "\u001b[0;31mModuleNotFoundError\u001b[0m                       Traceback (most recent call last)",
      "Cell \u001b[0;32mIn[1], line 17\u001b[0m\n\u001b[1;32m     14\u001b[0m \u001b[38;5;28;01mfrom\u001b[39;00m \u001b[38;5;21;01mscipy\u001b[39;00m\u001b[38;5;21;01m.\u001b[39;00m\u001b[38;5;21;01moptimize\u001b[39;00m \u001b[38;5;28;01mimport\u001b[39;00m curve_fit \n\u001b[1;32m     15\u001b[0m \u001b[38;5;66;03m#import numba \u001b[39;00m\n\u001b[0;32m---> 17\u001b[0m \u001b[38;5;28;01mfrom\u001b[39;00m \u001b[38;5;21;01mpynndescent\u001b[39;00m \u001b[38;5;28;01mimport\u001b[39;00m NNDescent \n\u001b[1;32m     19\u001b[0m sns\u001b[38;5;241m.\u001b[39mset_theme()\n\u001b[1;32m     20\u001b[0m random\u001b[38;5;241m.\u001b[39mseed(\u001b[38;5;241m2\u001b[39m)\n",
      "\u001b[0;31mModuleNotFoundError\u001b[0m: No module named 'pynndescent'"
     ]
    }
   ],
   "source": [
    "#Import statements \n",
    "import random \n",
    "\n",
    "import numpy as np \n",
    "import pandas as pd \n",
    "\n",
    "import seaborn as sns \n",
    "import matplotlib.pyplot as plt \n",
    "\n",
    "from sklearn.datasets import fetch_openml \n",
    "\n",
    "import scipy \n",
    "import scipy.sparse \n",
    "from scipy.optimize import curve_fit \n",
    "#import numba \n",
    "\n",
    "from pynndescent import NNDescent \n",
    "\n",
    "sns.set_theme()\n",
    "random.seed(2)\n"
   ]
  },
  {
   "cell_type": "code",
   "execution_count": 6,
   "metadata": {},
   "outputs": [
    {
     "ename": "ModuleNotFoundError",
     "evalue": "No module named 'pynndescent'",
     "output_type": "error",
     "traceback": [
      "\u001b[0;31m---------------------------------------------------------------------------\u001b[0m",
      "\u001b[0;31mModuleNotFoundError\u001b[0m                       Traceback (most recent call last)",
      "Cell \u001b[0;32mIn[6], line 16\u001b[0m\n\u001b[1;32m     13\u001b[0m \u001b[38;5;28;01mimport\u001b[39;00m \u001b[38;5;21;01mscipy\u001b[39;00m\u001b[38;5;21;01m.\u001b[39;00m\u001b[38;5;21;01msparse\u001b[39;00m \n\u001b[1;32m     14\u001b[0m \u001b[38;5;28;01mfrom\u001b[39;00m \u001b[38;5;21;01mscipy\u001b[39;00m\u001b[38;5;21;01m.\u001b[39;00m\u001b[38;5;21;01moptimize\u001b[39;00m \u001b[38;5;28;01mimport\u001b[39;00m curve_fit \n\u001b[0;32m---> 16\u001b[0m \u001b[38;5;28;01mfrom\u001b[39;00m \u001b[38;5;21;01mpynndescent\u001b[39;00m \u001b[38;5;28;01mimport\u001b[39;00m NNDescent \n\u001b[1;32m     18\u001b[0m sns\u001b[38;5;241m.\u001b[39mset_theme()\n\u001b[1;32m     19\u001b[0m random\u001b[38;5;241m.\u001b[39mseed(\u001b[38;5;241m2\u001b[39m)\n",
      "\u001b[0;31mModuleNotFoundError\u001b[0m: No module named 'pynndescent'"
     ]
    }
   ],
   "source": [
    "#Import statements \n",
    "import random \n",
    "\n",
    "import numpy as np \n",
    "import pandas as pd \n",
    "\n",
    "import seaborn as sns \n",
    "import matplotlib.pyplot as plt \n",
    "\n",
    "from sklearn.datasets import fetch_openml \n",
    "\n",
    "import scipy \n",
    "import scipy.sparse \n",
    "from scipy.optimize import curve_fit \n",
    "\n",
    "from pynndescent import NNDescent \n",
    "\n",
    "sns.set_theme()\n",
    "random.seed(2)\n"
   ]
  },
  {
   "cell_type": "code",
   "execution_count": 2,
   "metadata": {},
   "outputs": [
    {
     "ename": "ModuleNotFoundError",
     "evalue": "No module named 'numba'",
     "output_type": "error",
     "traceback": [
      "\u001b[0;31m---------------------------------------------------------------------------\u001b[0m",
      "\u001b[0;31mModuleNotFoundError\u001b[0m                       Traceback (most recent call last)",
      "Cell \u001b[0;32mIn[2], line 1\u001b[0m\n\u001b[0;32m----> 1\u001b[0m \u001b[38;5;28;01mimport\u001b[39;00m \u001b[38;5;21;01mnumba\u001b[39;00m\n",
      "\u001b[0;31mModuleNotFoundError\u001b[0m: No module named 'numba'"
     ]
    }
   ],
   "source": [
    "import numba"
   ]
  },
  {
   "cell_type": "code",
   "execution_count": null,
   "metadata": {},
   "outputs": [],
   "source": []
  },
  {
   "cell_type": "code",
   "execution_count": null,
   "metadata": {},
   "outputs": [],
   "source": []
  },
  {
   "cell_type": "code",
   "execution_count": null,
   "metadata": {},
   "outputs": [],
   "source": []
  },
  {
   "cell_type": "code",
   "execution_count": null,
   "metadata": {},
   "outputs": [],
   "source": []
  },
  {
   "cell_type": "code",
   "execution_count": null,
   "metadata": {},
   "outputs": [],
   "source": []
  },
  {
   "cell_type": "code",
   "execution_count": null,
   "metadata": {},
   "outputs": [],
   "source": []
  },
  {
   "cell_type": "code",
   "execution_count": null,
   "metadata": {},
   "outputs": [],
   "source": []
  },
  {
   "cell_type": "code",
   "execution_count": null,
   "metadata": {},
   "outputs": [],
   "source": []
  },
  {
   "cell_type": "code",
   "execution_count": null,
   "metadata": {},
   "outputs": [],
   "source": []
  },
  {
   "cell_type": "code",
   "execution_count": null,
   "metadata": {},
   "outputs": [],
   "source": []
  },
  {
   "cell_type": "code",
   "execution_count": null,
   "metadata": {},
   "outputs": [],
   "source": []
  },
  {
   "cell_type": "code",
   "execution_count": null,
   "metadata": {},
   "outputs": [],
   "source": []
  },
  {
   "cell_type": "code",
   "execution_count": null,
   "metadata": {},
   "outputs": [],
   "source": []
  },
  {
   "cell_type": "code",
   "execution_count": null,
   "metadata": {},
   "outputs": [],
   "source": []
  },
  {
   "cell_type": "code",
   "execution_count": null,
   "metadata": {},
   "outputs": [],
   "source": []
  },
  {
   "cell_type": "code",
   "execution_count": null,
   "metadata": {},
   "outputs": [],
   "source": []
  },
  {
   "cell_type": "code",
   "execution_count": null,
   "metadata": {},
   "outputs": [],
   "source": []
  },
  {
   "cell_type": "code",
   "execution_count": null,
   "metadata": {},
   "outputs": [],
   "source": []
  },
  {
   "cell_type": "code",
   "execution_count": null,
   "metadata": {},
   "outputs": [],
   "source": []
  },
  {
   "cell_type": "code",
   "execution_count": null,
   "metadata": {},
   "outputs": [],
   "source": []
  },
  {
   "cell_type": "code",
   "execution_count": null,
   "metadata": {},
   "outputs": [],
   "source": []
  },
  {
   "cell_type": "code",
   "execution_count": null,
   "metadata": {},
   "outputs": [],
   "source": []
  },
  {
   "cell_type": "code",
   "execution_count": null,
   "metadata": {},
   "outputs": [],
   "source": []
  },
  {
   "cell_type": "code",
   "execution_count": null,
   "metadata": {},
   "outputs": [],
   "source": []
  }
 ],
 "metadata": {
  "kernelspec": {
   "display_name": "venvum38",
   "language": "python",
   "name": "python3"
  },
  "language_info": {
   "codemirror_mode": {
    "name": "ipython",
    "version": 3
   },
   "file_extension": ".py",
   "mimetype": "text/x-python",
   "name": "python",
   "nbconvert_exporter": "python",
   "pygments_lexer": "ipython3",
   "version": "3.8.20"
  }
 },
 "nbformat": 4,
 "nbformat_minor": 2
}
