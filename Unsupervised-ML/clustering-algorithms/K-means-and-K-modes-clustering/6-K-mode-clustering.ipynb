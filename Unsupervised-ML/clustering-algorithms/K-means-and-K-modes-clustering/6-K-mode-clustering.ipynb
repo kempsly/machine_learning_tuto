{
 "cells": [
  {
   "cell_type": "markdown",
   "metadata": {},
   "source": [
    "**K-Modes** is a clustering algorithm specifically designed for **categorical data**, which cannot be handled effectively by algorithms like K-Means that are built for numerical data. Here’s an overview of K-Modes:\n",
    "\n",
    "---\n",
    "\n",
    "### How K-Modes Works:\n",
    "1. **Initialization**: \n",
    "   - Randomly initialize the cluster modes (similar to centroids in K-Means but for categorical data).\n",
    "   - A mode is the most frequent value for each attribute in a cluster.\n",
    "\n",
    "2. **Distance Measure**:\n",
    "   - Uses **Hamming Distance** (number of mismatched attributes) to calculate the dissimilarity between categorical points.\n",
    "\n",
    "3. **Assignment Step**:\n",
    "   - Assign each data point to the cluster whose mode is closest based on the categorical distance metric.\n",
    "\n",
    "4. **Update Step**:\n",
    "   - Recalculate the mode of each cluster after assigning points to minimize the cost function (based on dissimilarity).\n",
    "\n",
    "5. **Repeat**:\n",
    "   - Iterate through the assignment and update steps until the clusters stabilize or a stopping criterion is met.\n",
    "\n",
    "---\n",
    "\n",
    "### Applications of K-Modes:\n",
    "- **Market Segmentation**: Clustering customer data with attributes like gender, region, and product preferences.\n",
    "- **Health Informatics**: Grouping patients based on symptoms, diagnoses, and treatments.\n",
    "- **Recommendation Systems**: Clustering users based on categorical preferences like genres or categories.\n",
    "- **Sociological Studies**: Analyzing survey data with categorical responses.\n",
    "\n",
    "---\n",
    "\n",
    "### When to Use K-Modes:\n",
    "- Data is primarily **categorical**.\n",
    "- Numerical methods like K-Means aren't meaningful due to the nature of the data (e.g., computing averages of categories is invalid).\n",
    "\n",
    "---\n",
    "\n",
    "### Advantages:\n",
    "- Handles **categorical data** directly.\n",
    "- Computationally efficient for moderate-sized datasets.\n",
    "- Simple to implement and understand.\n",
    "\n",
    "---\n",
    "\n",
    "### Limitations:\n",
    "- Requires the number of clusters \\(K\\) to be specified in advance.\n",
    "- Sensitive to initialization (can lead to different results).\n",
    "- May not perform well with mixed data types (numerical + categorical).\n",
    "\n",
    "---\n",
    "\n",
    "---\n",
    "\n",
    "### Key Notes:\n",
    "- **Initialization Methods**: \n",
    "  - `Huang` (default): Uses attribute frequency for initialization.\n",
    "  - `Cao`: Uses density-based initialization.\n",
    "- Works only for **categorical** variables. If you have mixed data types, consider converting numerical values to categorical bins or using **K-Prototypes** (an extension of K-Modes for mixed data)."
   ]
  },
  {
   "cell_type": "markdown",
   "metadata": {},
   "source": [
    "### A SIMPLE EXEMPLE OF KMODE IMPLEMENTATION"
   ]
  },
  {
   "cell_type": "code",
   "execution_count": 3,
   "metadata": {},
   "outputs": [
    {
     "name": "stdout",
     "output_type": "stream",
     "text": [
      "Init: initializing centroids\n",
      "Init: initializing clusters\n",
      "Starting iterations...\n",
      "Run 1, iteration: 1/100, moves: 0, cost: 2.0\n",
      "Init: initializing centroids\n",
      "Init: initializing clusters\n",
      "Starting iterations...\n",
      "Run 2, iteration: 1/100, moves: 0, cost: 2.0\n",
      "Init: initializing centroids\n",
      "Init: initializing clusters\n",
      "Starting iterations...\n",
      "Run 3, iteration: 1/100, moves: 0, cost: 2.0\n",
      "Init: initializing centroids\n",
      "Init: initializing clusters\n",
      "Starting iterations...\n",
      "Run 4, iteration: 1/100, moves: 0, cost: 2.0\n",
      "Init: initializing centroids\n",
      "Init: initializing clusters\n",
      "Starting iterations...\n",
      "Run 5, iteration: 1/100, moves: 0, cost: 2.0\n",
      "Best run was number 1\n",
      "Cluster assignments: [0 1 0 1]\n",
      "Cluster centroids (modes): [['Male' 'Married' 'No']\n",
      " ['Female' 'Married' 'Yes']]\n"
     ]
    }
   ],
   "source": [
    "import pandas as pd\n",
    "from kmodes.kmodes import KModes\n",
    "\n",
    "# Example data\n",
    "data = [\n",
    "    ['Male', 'Single', 'No'],\n",
    "    ['Female', 'Married', 'Yes'],\n",
    "    ['Male', 'Married', 'No'],\n",
    "    ['Female', 'Single', 'Yes']\n",
    "]\n",
    "\n",
    "# Convert to a Pandas DataFrame\n",
    "df = pd.DataFrame(data, columns=['Gender', 'MaritalStatus', 'HasChildren'])\n",
    "\n",
    "# Instantiate K-Modes\n",
    "km = KModes(n_clusters=2, init='Huang', n_init=5, verbose=1)\n",
    "\n",
    "# Fit the model\n",
    "clusters = km.fit_predict(df)\n",
    "\n",
    "# Output cluster assignments and centroids\n",
    "print(\"Cluster assignments:\", clusters)\n",
    "print(\"Cluster centroids (modes):\", km.cluster_centroids_)\n"
   ]
  },
  {
   "cell_type": "code",
   "execution_count": null,
   "metadata": {},
   "outputs": [],
   "source": []
  },
  {
   "cell_type": "code",
   "execution_count": null,
   "metadata": {},
   "outputs": [],
   "source": []
  },
  {
   "cell_type": "code",
   "execution_count": null,
   "metadata": {},
   "outputs": [],
   "source": []
  },
  {
   "cell_type": "code",
   "execution_count": null,
   "metadata": {},
   "outputs": [],
   "source": []
  },
  {
   "cell_type": "code",
   "execution_count": null,
   "metadata": {},
   "outputs": [],
   "source": []
  },
  {
   "cell_type": "code",
   "execution_count": null,
   "metadata": {},
   "outputs": [],
   "source": []
  },
  {
   "cell_type": "code",
   "execution_count": null,
   "metadata": {},
   "outputs": [],
   "source": []
  },
  {
   "cell_type": "code",
   "execution_count": null,
   "metadata": {},
   "outputs": [],
   "source": []
  },
  {
   "cell_type": "code",
   "execution_count": null,
   "metadata": {},
   "outputs": [],
   "source": []
  },
  {
   "cell_type": "code",
   "execution_count": null,
   "metadata": {},
   "outputs": [],
   "source": []
  },
  {
   "cell_type": "code",
   "execution_count": null,
   "metadata": {},
   "outputs": [],
   "source": []
  }
 ],
 "metadata": {
  "kernelspec": {
   "display_name": "venvum",
   "language": "python",
   "name": "python3"
  },
  "language_info": {
   "codemirror_mode": {
    "name": "ipython",
    "version": 3
   },
   "file_extension": ".py",
   "mimetype": "text/x-python",
   "name": "python",
   "nbconvert_exporter": "python",
   "pygments_lexer": "ipython3",
   "version": "3.10.14"
  }
 },
 "nbformat": 4,
 "nbformat_minor": 2
}
