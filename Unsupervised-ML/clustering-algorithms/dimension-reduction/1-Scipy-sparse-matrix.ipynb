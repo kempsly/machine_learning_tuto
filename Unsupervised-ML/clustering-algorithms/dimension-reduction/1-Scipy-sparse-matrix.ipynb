{
 "cells": [
  {
   "cell_type": "markdown",
   "metadata": {},
   "source": [
    "Sparse Matrix With Scipy"
   ]
  },
  {
   "cell_type": "code",
   "execution_count": 1,
   "metadata": {},
   "outputs": [],
   "source": [
    "#Import statements \n",
    "import numpy as np \n",
    "from scipy.sparse import csr_matrix \n",
    "from scipy.sparse import coo_matrix \n",
    "from scipy.sparse import csc_matrix  "
   ]
  },
  {
   "cell_type": "markdown",
   "metadata": {},
   "source": [
    "COO format"
   ]
  },
  {
   "cell_type": "code",
   "execution_count": 2,
   "metadata": {},
   "outputs": [],
   "source": [
    "## Create a 2D numpy array with a lot of zeros \n",
    "dense_matrix = np.array([\n",
    "    [0, 0, 0, 1],\n",
    "    [2, 0, 0, 3],\n",
    "    [0, 4, 0, 0],\n",
    "    [1, 2, 5, 0]\n",
    "])\n",
    "\n"
   ]
  },
  {
   "cell_type": "code",
   "execution_count": 3,
   "metadata": {},
   "outputs": [
    {
     "data": {
      "text/plain": [
       "array([[0, 0, 0, 1],\n",
       "       [2, 0, 0, 3],\n",
       "       [0, 4, 0, 0],\n",
       "       [1, 2, 5, 0]])"
      ]
     },
     "execution_count": 3,
     "metadata": {},
     "output_type": "execute_result"
    }
   ],
   "source": [
    "dense_matrix"
   ]
  },
  {
   "cell_type": "code",
   "execution_count": 4,
   "metadata": {},
   "outputs": [
    {
     "data": {
      "text/plain": [
       "<COOrdinate sparse matrix of dtype 'int64'\n",
       "\twith 7 stored elements and shape (4, 4)>"
      ]
     },
     "execution_count": 4,
     "metadata": {},
     "output_type": "execute_result"
    }
   ],
   "source": [
    "#Convert the dense matrix to COO format \n",
    "sparse_matrix_coo = coo_matrix(dense_matrix)\n",
    "sparse_matrix_coo"
   ]
  },
  {
   "cell_type": "code",
   "execution_count": 5,
   "metadata": {},
   "outputs": [
    {
     "name": "stdout",
     "output_type": "stream",
     "text": [
      "Data array: [1 2 3 4 1 2 5]\n",
      "Row Indices array : [0 1 1 2 3 3 3]\n",
      "Column Indices array array: [3 0 3 1 0 1 2]\n"
     ]
    }
   ],
   "source": [
    "#Print out the internal data structure of the COO matrix\n",
    "print(\"Data array:\", sparse_matrix_coo.data)\n",
    "print(\"Row Indices array :\", sparse_matrix_coo.row)\n",
    "print(\"Column Indices array array:\", sparse_matrix_coo.col)"
   ]
  },
  {
   "cell_type": "code",
   "execution_count": null,
   "metadata": {},
   "outputs": [],
   "source": [
    "#We can not perform aritmetic operations with this format\n",
    "# By exemple below sparse_matrix_coo[1:3, :]will throw an error"
   ]
  },
  {
   "cell_type": "code",
   "execution_count": 6,
   "metadata": {},
   "outputs": [
    {
     "ename": "TypeError",
     "evalue": "'coo_matrix' object is not subscriptable",
     "output_type": "error",
     "traceback": [
      "\u001b[0;31m---------------------------------------------------------------------------\u001b[0m",
      "\u001b[0;31mTypeError\u001b[0m                                 Traceback (most recent call last)",
      "Cell \u001b[0;32mIn[6], line 2\u001b[0m\n\u001b[1;32m      1\u001b[0m \u001b[38;5;66;03m#Perform row slicing \u001b[39;00m\n\u001b[0;32m----> 2\u001b[0m \u001b[43msparse_matrix_coo\u001b[49m\u001b[43m[\u001b[49m\u001b[38;5;241;43m1\u001b[39;49m\u001b[43m:\u001b[49m\u001b[38;5;241;43m3\u001b[39;49m\u001b[43m,\u001b[49m\u001b[43m \u001b[49m\u001b[43m:\u001b[49m\u001b[43m]\u001b[49m\n",
      "\u001b[0;31mTypeError\u001b[0m: 'coo_matrix' object is not subscriptable"
     ]
    }
   ],
   "source": [
    "#Perform row slicing \n",
    "sparse_matrix_coo[1:3, :]"
   ]
  },
  {
   "cell_type": "code",
   "execution_count": 8,
   "metadata": {},
   "outputs": [],
   "source": [
    "# sparse_matrix_coo.ded "
   ]
  },
  {
   "cell_type": "markdown",
   "metadata": {},
   "source": [
    "CSR Format"
   ]
  },
  {
   "cell_type": "code",
   "execution_count": 11,
   "metadata": {},
   "outputs": [
    {
     "name": "stdout",
     "output_type": "stream",
     "text": [
      "[[0 0 0 1]\n",
      " [2 0 0 3]\n",
      " [0 4 0 0]\n",
      " [1 2 5 0]]\n",
      "Data array: [1 2 3 4 1 2 5]\n",
      "Indices array : [3 0 3 1 0 1 2]\n",
      "Indptr array: [0 1 3 4 7]\n"
     ]
    }
   ],
   "source": [
    "## Create a 2D numpy array with a lot of zeros \n",
    "dense_matrix = np.array([\n",
    "    [0, 0, 0, 1],\n",
    "    [2, 0, 0, 3],\n",
    "    [0, 4, 0, 0],\n",
    "    [1, 2, 5, 0]\n",
    "])\n",
    "#Convert the dense matrix to CSR format\n",
    "sparse_matrix_csr = csr_matrix(dense_matrix)\n",
    "print(dense_matrix)\n",
    "\n",
    "#Print out the internal data structure of the CSR matrix\n",
    "print(\"Data array:\", sparse_matrix_csr.data)\n",
    "print(\"Indices array :\", sparse_matrix_csr.indices)\n",
    "print(\"Indptr array:\", sparse_matrix_csr.indptr)"
   ]
  },
  {
   "cell_type": "code",
   "execution_count": 12,
   "metadata": {},
   "outputs": [
    {
     "name": "stdout",
     "output_type": "stream",
     "text": [
      "Row slice:\n",
      "[[2 0 0 3]\n",
      " [0 4 0 0]]\n"
     ]
    }
   ],
   "source": [
    "#Perform row slicing \n",
    "row_slice = sparse_matrix_csr[1:3, :]\n",
    "print(\"Row slice:\")\n",
    "print(row_slice.toarray())"
   ]
  },
  {
   "cell_type": "markdown",
   "metadata": {},
   "source": [
    "CSC Format\n"
   ]
  },
  {
   "cell_type": "code",
   "execution_count": null,
   "metadata": {},
   "outputs": [
    {
     "name": "stdout",
     "output_type": "stream",
     "text": [
      "<Compressed Sparse Column sparse matrix of dtype 'int64'\n",
      "\twith 7 stored elements and shape (4, 4)>\n",
      "  Coords\tValues\n",
      "  (1, 0)\t2\n",
      "  (3, 0)\t1\n",
      "  (2, 1)\t4\n",
      "  (3, 1)\t2\n",
      "  (3, 2)\t5\n",
      "  (0, 3)\t1\n",
      "  (1, 3)\t3\n",
      "Data array: [2 1 4 2 5 1 3]\n",
      "Indices array : [1 3 2 3 3 0 1]\n",
      "Indptr array: [0 2 4 5 7]\n"
     ]
    }
   ],
   "source": [
    "## Create a 2D numpy array with a lot of zeros \n",
    "dense_matrix = np.array([\n",
    "    [0, 0, 0, 1],\n",
    "    [2, 0, 0, 3],\n",
    "    [0, 4, 0, 0],\n",
    "    [1, 2, 5, 0]\n",
    "])\n",
    "#Convert the dense matrix to CSC format\n",
    "sparse_matrix_csc = csc_matrix(dense_matrix)\n",
    "print(sparse_matrix_csc)\n",
    "\n",
    "#Print out the internal data structure of the CSC matrix\n",
    "print(\"Data array:\", sparse_matrix_csc.data)\n",
    "print(\"Indices array :\", sparse_matrix_csc.indices)\n",
    "print(\"Indptr array:\", sparse_matrix_csc.indptr)"
   ]
  },
  {
   "cell_type": "code",
   "execution_count": 14,
   "metadata": {},
   "outputs": [
    {
     "data": {
      "text/plain": [
       "array([[0, 0, 0, 1],\n",
       "       [2, 0, 0, 3],\n",
       "       [0, 4, 0, 0],\n",
       "       [1, 2, 5, 0]])"
      ]
     },
     "execution_count": 14,
     "metadata": {},
     "output_type": "execute_result"
    }
   ],
   "source": [
    "sparse_matrix_csc.toarray()"
   ]
  },
  {
   "cell_type": "code",
   "execution_count": 15,
   "metadata": {},
   "outputs": [
    {
     "data": {
      "text/plain": [
       "<COOrdinate sparse matrix of dtype 'int64'\n",
       "\twith 7 stored elements and shape (4, 4)>"
      ]
     },
     "execution_count": 15,
     "metadata": {},
     "output_type": "execute_result"
    }
   ],
   "source": [
    "sparse_matrix_csc.tocoo()"
   ]
  },
  {
   "cell_type": "code",
   "execution_count": 16,
   "metadata": {},
   "outputs": [
    {
     "data": {
      "text/plain": [
       "<Compressed Sparse Column sparse matrix of dtype 'int64'\n",
       "\twith 7 stored elements and shape (4, 4)>"
      ]
     },
     "execution_count": 16,
     "metadata": {},
     "output_type": "execute_result"
    }
   ],
   "source": [
    "sparse_matrix_csc.tocsc()"
   ]
  },
  {
   "cell_type": "code",
   "execution_count": 17,
   "metadata": {},
   "outputs": [],
   "source": [
    "sparse_matrix_coo.eliminate_zeros()"
   ]
  },
  {
   "cell_type": "code",
   "execution_count": null,
   "metadata": {},
   "outputs": [],
   "source": []
  }
 ],
 "metadata": {
  "kernelspec": {
   "display_name": "venvum",
   "language": "python",
   "name": "python3"
  },
  "language_info": {
   "codemirror_mode": {
    "name": "ipython",
    "version": 3
   },
   "file_extension": ".py",
   "mimetype": "text/x-python",
   "name": "python",
   "nbconvert_exporter": "python",
   "pygments_lexer": "ipython3",
   "version": "3.10.14"
  }
 },
 "nbformat": 4,
 "nbformat_minor": 2
}
